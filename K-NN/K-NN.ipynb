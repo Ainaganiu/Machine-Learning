{
 "cells": [
  {
   "cell_type": "markdown",
   "metadata": {},
   "source": [
    "Importing the libraries"
   ]
  },
  {
   "cell_type": "code",
   "execution_count": 1,
   "metadata": {},
   "outputs": [
    {
     "data": {
      "text/html": [
       "        <script type=\"text/javascript\">\n",
       "        window.PlotlyConfig = {MathJaxConfig: 'local'};\n",
       "        if (window.MathJax) {MathJax.Hub.Config({SVG: {font: \"STIX-Web\"}});}\n",
       "        if (typeof require !== 'undefined') {\n",
       "        require.undef(\"plotly\");\n",
       "        requirejs.config({\n",
       "            paths: {\n",
       "                'plotly': ['https://cdn.plot.ly/plotly-2.8.3.min']\n",
       "            }\n",
       "        });\n",
       "        require(['plotly'], function(Plotly) {\n",
       "            window._Plotly = Plotly;\n",
       "        });\n",
       "        }\n",
       "        </script>\n",
       "        "
      ]
     },
     "metadata": {},
     "output_type": "display_data"
    },
    {
     "data": {
      "text/html": [
       "        <script type=\"text/javascript\">\n",
       "        window.PlotlyConfig = {MathJaxConfig: 'local'};\n",
       "        if (window.MathJax) {MathJax.Hub.Config({SVG: {font: \"STIX-Web\"}});}\n",
       "        if (typeof require !== 'undefined') {\n",
       "        require.undef(\"plotly\");\n",
       "        requirejs.config({\n",
       "            paths: {\n",
       "                'plotly': ['https://cdn.plot.ly/plotly-2.8.3.min']\n",
       "            }\n",
       "        });\n",
       "        require(['plotly'], function(Plotly) {\n",
       "            window._Plotly = Plotly;\n",
       "        });\n",
       "        }\n",
       "        </script>\n",
       "        "
      ]
     },
     "metadata": {},
     "output_type": "display_data"
    }
   ],
   "source": [
    "#Importing the necessary Visualization Libraries\n",
    "from sklearn.model_selection import train_test_split\n",
    "from sklearn.linear_model import LinearRegression\n",
    "import sklearn\n",
    "from plotly.offline import download_plotlyjs, init_notebook_mode, plot, iplot\n",
    "import plotly.offline\n",
    "import cufflinks as cf\n",
    "import pandas as pd\n",
    "import numpy as np\n",
    "import chart_studio.plotly as py\n",
    "import seaborn as sns\n",
    "import plotly.graph_objects as go\n",
    "import plotly.express as px\n",
    "%matplotlib inline\n",
    "init_notebook_mode(connected=True)\n",
    "cf.go_offline()\n",
    "\n",
    "# Importing Sklearn\n",
    "# Regression\n",
    "# We import Scikit Learn\n",
    "lm = LinearRegression()\n"
   ]
  },
  {
   "cell_type": "code",
   "execution_count": 2,
   "metadata": {},
   "outputs": [],
   "source": [
    "import matplotlib.pyplot as plt\n",
    "import seaborn as sns\n",
    "import scipy.stats as stats\n",
    "import itertools\n",
    "import matplotlib.pyplot as plt\n",
    "from matplotlib.ticker import NullFormatter\n",
    "import matplotlib.ticker as ticker\n",
    "%matplotlib inline\n"
   ]
  },
  {
   "cell_type": "markdown",
   "metadata": {},
   "source": [
    "Importing the dataset"
   ]
  },
  {
   "cell_type": "code",
   "execution_count": 3,
   "metadata": {},
   "outputs": [
    {
     "data": {
      "text/html": [
       "<div>\n",
       "<style scoped>\n",
       "    .dataframe tbody tr th:only-of-type {\n",
       "        vertical-align: middle;\n",
       "    }\n",
       "\n",
       "    .dataframe tbody tr th {\n",
       "        vertical-align: top;\n",
       "    }\n",
       "\n",
       "    .dataframe thead th {\n",
       "        text-align: right;\n",
       "    }\n",
       "</style>\n",
       "<table border=\"1\" class=\"dataframe\">\n",
       "  <thead>\n",
       "    <tr style=\"text-align: right;\">\n",
       "      <th></th>\n",
       "      <th>region</th>\n",
       "      <th>tenure</th>\n",
       "      <th>age</th>\n",
       "      <th>marital</th>\n",
       "      <th>address</th>\n",
       "      <th>income</th>\n",
       "      <th>ed</th>\n",
       "      <th>employ</th>\n",
       "      <th>retire</th>\n",
       "      <th>gender</th>\n",
       "      <th>reside</th>\n",
       "      <th>custcat</th>\n",
       "    </tr>\n",
       "  </thead>\n",
       "  <tbody>\n",
       "    <tr>\n",
       "      <th>0</th>\n",
       "      <td>2</td>\n",
       "      <td>13</td>\n",
       "      <td>44</td>\n",
       "      <td>1</td>\n",
       "      <td>9</td>\n",
       "      <td>64.0</td>\n",
       "      <td>4</td>\n",
       "      <td>5</td>\n",
       "      <td>0.0</td>\n",
       "      <td>0</td>\n",
       "      <td>2</td>\n",
       "      <td>1</td>\n",
       "    </tr>\n",
       "    <tr>\n",
       "      <th>1</th>\n",
       "      <td>3</td>\n",
       "      <td>11</td>\n",
       "      <td>33</td>\n",
       "      <td>1</td>\n",
       "      <td>7</td>\n",
       "      <td>136.0</td>\n",
       "      <td>5</td>\n",
       "      <td>5</td>\n",
       "      <td>0.0</td>\n",
       "      <td>0</td>\n",
       "      <td>6</td>\n",
       "      <td>4</td>\n",
       "    </tr>\n",
       "    <tr>\n",
       "      <th>2</th>\n",
       "      <td>3</td>\n",
       "      <td>68</td>\n",
       "      <td>52</td>\n",
       "      <td>1</td>\n",
       "      <td>24</td>\n",
       "      <td>116.0</td>\n",
       "      <td>1</td>\n",
       "      <td>29</td>\n",
       "      <td>0.0</td>\n",
       "      <td>1</td>\n",
       "      <td>2</td>\n",
       "      <td>3</td>\n",
       "    </tr>\n",
       "    <tr>\n",
       "      <th>3</th>\n",
       "      <td>2</td>\n",
       "      <td>33</td>\n",
       "      <td>33</td>\n",
       "      <td>0</td>\n",
       "      <td>12</td>\n",
       "      <td>33.0</td>\n",
       "      <td>2</td>\n",
       "      <td>0</td>\n",
       "      <td>0.0</td>\n",
       "      <td>1</td>\n",
       "      <td>1</td>\n",
       "      <td>1</td>\n",
       "    </tr>\n",
       "    <tr>\n",
       "      <th>4</th>\n",
       "      <td>2</td>\n",
       "      <td>23</td>\n",
       "      <td>30</td>\n",
       "      <td>1</td>\n",
       "      <td>9</td>\n",
       "      <td>30.0</td>\n",
       "      <td>1</td>\n",
       "      <td>2</td>\n",
       "      <td>0.0</td>\n",
       "      <td>0</td>\n",
       "      <td>4</td>\n",
       "      <td>3</td>\n",
       "    </tr>\n",
       "    <tr>\n",
       "      <th>...</th>\n",
       "      <td>...</td>\n",
       "      <td>...</td>\n",
       "      <td>...</td>\n",
       "      <td>...</td>\n",
       "      <td>...</td>\n",
       "      <td>...</td>\n",
       "      <td>...</td>\n",
       "      <td>...</td>\n",
       "      <td>...</td>\n",
       "      <td>...</td>\n",
       "      <td>...</td>\n",
       "      <td>...</td>\n",
       "    </tr>\n",
       "    <tr>\n",
       "      <th>995</th>\n",
       "      <td>3</td>\n",
       "      <td>10</td>\n",
       "      <td>39</td>\n",
       "      <td>0</td>\n",
       "      <td>0</td>\n",
       "      <td>27.0</td>\n",
       "      <td>3</td>\n",
       "      <td>0</td>\n",
       "      <td>0.0</td>\n",
       "      <td>1</td>\n",
       "      <td>3</td>\n",
       "      <td>1</td>\n",
       "    </tr>\n",
       "    <tr>\n",
       "      <th>996</th>\n",
       "      <td>1</td>\n",
       "      <td>7</td>\n",
       "      <td>34</td>\n",
       "      <td>0</td>\n",
       "      <td>2</td>\n",
       "      <td>22.0</td>\n",
       "      <td>5</td>\n",
       "      <td>5</td>\n",
       "      <td>0.0</td>\n",
       "      <td>1</td>\n",
       "      <td>1</td>\n",
       "      <td>1</td>\n",
       "    </tr>\n",
       "    <tr>\n",
       "      <th>997</th>\n",
       "      <td>3</td>\n",
       "      <td>67</td>\n",
       "      <td>59</td>\n",
       "      <td>0</td>\n",
       "      <td>40</td>\n",
       "      <td>944.0</td>\n",
       "      <td>5</td>\n",
       "      <td>33</td>\n",
       "      <td>0.0</td>\n",
       "      <td>1</td>\n",
       "      <td>1</td>\n",
       "      <td>4</td>\n",
       "    </tr>\n",
       "    <tr>\n",
       "      <th>998</th>\n",
       "      <td>3</td>\n",
       "      <td>70</td>\n",
       "      <td>49</td>\n",
       "      <td>0</td>\n",
       "      <td>18</td>\n",
       "      <td>87.0</td>\n",
       "      <td>2</td>\n",
       "      <td>22</td>\n",
       "      <td>0.0</td>\n",
       "      <td>1</td>\n",
       "      <td>1</td>\n",
       "      <td>3</td>\n",
       "    </tr>\n",
       "    <tr>\n",
       "      <th>999</th>\n",
       "      <td>3</td>\n",
       "      <td>50</td>\n",
       "      <td>36</td>\n",
       "      <td>1</td>\n",
       "      <td>7</td>\n",
       "      <td>39.0</td>\n",
       "      <td>3</td>\n",
       "      <td>3</td>\n",
       "      <td>0.0</td>\n",
       "      <td>1</td>\n",
       "      <td>3</td>\n",
       "      <td>2</td>\n",
       "    </tr>\n",
       "  </tbody>\n",
       "</table>\n",
       "<p>1000 rows × 12 columns</p>\n",
       "</div>"
      ],
      "text/plain": [
       "     region  tenure  age  marital  address  income  ed  employ  retire  \\\n",
       "0         2      13   44        1        9    64.0   4       5     0.0   \n",
       "1         3      11   33        1        7   136.0   5       5     0.0   \n",
       "2         3      68   52        1       24   116.0   1      29     0.0   \n",
       "3         2      33   33        0       12    33.0   2       0     0.0   \n",
       "4         2      23   30        1        9    30.0   1       2     0.0   \n",
       "..      ...     ...  ...      ...      ...     ...  ..     ...     ...   \n",
       "995       3      10   39        0        0    27.0   3       0     0.0   \n",
       "996       1       7   34        0        2    22.0   5       5     0.0   \n",
       "997       3      67   59        0       40   944.0   5      33     0.0   \n",
       "998       3      70   49        0       18    87.0   2      22     0.0   \n",
       "999       3      50   36        1        7    39.0   3       3     0.0   \n",
       "\n",
       "     gender  reside  custcat  \n",
       "0         0       2        1  \n",
       "1         0       6        4  \n",
       "2         1       2        3  \n",
       "3         1       1        1  \n",
       "4         0       4        3  \n",
       "..      ...     ...      ...  \n",
       "995       1       3        1  \n",
       "996       1       1        1  \n",
       "997       1       1        4  \n",
       "998       1       1        3  \n",
       "999       1       3        2  \n",
       "\n",
       "[1000 rows x 12 columns]"
      ]
     },
     "execution_count": 3,
     "metadata": {},
     "output_type": "execute_result"
    }
   ],
   "source": [
    "df1 = 'C:/Users/User/Downloads/tele_customer.csv'\n",
    "df = pd.read_csv(df1)\n",
    "df"
   ]
  },
  {
   "cell_type": "markdown",
   "metadata": {},
   "source": [
    "Plotting histogram for customer category with their label"
   ]
  },
  {
   "cell_type": "code",
   "execution_count": 4,
   "metadata": {},
   "outputs": [],
   "source": [
    "kl = df['custcat']\n"
   ]
  },
  {
   "cell_type": "code",
   "execution_count": 5,
   "metadata": {},
   "outputs": [],
   "source": [
    "# Replacing some values in kl\n",
    "kl=kl.replace({1:'Basic-service',2:'E-Service customers',3:'Plus Service',4:'Total Service'})"
   ]
  },
  {
   "cell_type": "code",
   "execution_count": 6,
   "metadata": {},
   "outputs": [
    {
     "data": {
      "application/vnd.plotly.v1+json": {
       "config": {
        "linkText": "Export to plot.ly",
        "plotlyServerURL": "https://plot.ly",
        "showLink": true
       },
       "data": [
        {
         "histfunc": "count",
         "histnorm": "",
         "marker": {
          "color": "rgba(255, 153, 51, 1.0)",
          "line": {
           "color": "#4D5663",
           "width": 1.3
          }
         },
         "name": "custcat",
         "opacity": 0.8,
         "orientation": "v",
         "type": "histogram",
         "x": [
          "Basic-service",
          "Total Service",
          "Plus Service",
          "Basic-service",
          "Plus Service",
          "Plus Service",
          "E-Service customers",
          "Total Service",
          "Plus Service",
          "E-Service customers",
          "Basic-service",
          "Plus Service",
          "Basic-service",
          "Total Service",
          "Basic-service",
          "E-Service customers",
          "Plus Service",
          "Plus Service",
          "Basic-service",
          "Total Service",
          "E-Service customers",
          "Basic-service",
          "Total Service",
          "Basic-service",
          "Plus Service",
          "Plus Service",
          "Total Service",
          "Plus Service",
          "Basic-service",
          "E-Service customers",
          "E-Service customers",
          "Total Service",
          "Plus Service",
          "E-Service customers",
          "Total Service",
          "E-Service customers",
          "Total Service",
          "Plus Service",
          "Plus Service",
          "Plus Service",
          "Plus Service",
          "Plus Service",
          "Basic-service",
          "Total Service",
          "Plus Service",
          "E-Service customers",
          "E-Service customers",
          "Total Service",
          "Basic-service",
          "Plus Service",
          "Basic-service",
          "E-Service customers",
          "Total Service",
          "Basic-service",
          "Basic-service",
          "Basic-service",
          "E-Service customers",
          "Basic-service",
          "Plus Service",
          "E-Service customers",
          "Plus Service",
          "Total Service",
          "Basic-service",
          "Total Service",
          "Total Service",
          "Basic-service",
          "Plus Service",
          "Plus Service",
          "Basic-service",
          "Basic-service",
          "Basic-service",
          "E-Service customers",
          "Basic-service",
          "E-Service customers",
          "Plus Service",
          "Basic-service",
          "Plus Service",
          "Basic-service",
          "Plus Service",
          "Total Service",
          "Total Service",
          "Basic-service",
          "Total Service",
          "Plus Service",
          "E-Service customers",
          "Basic-service",
          "E-Service customers",
          "Total Service",
          "Total Service",
          "Plus Service",
          "E-Service customers",
          "Basic-service",
          "E-Service customers",
          "Total Service",
          "Basic-service",
          "Total Service",
          "Plus Service",
          "E-Service customers",
          "Plus Service",
          "E-Service customers",
          "Total Service",
          "Plus Service",
          "Plus Service",
          "E-Service customers",
          "E-Service customers",
          "E-Service customers",
          "Basic-service",
          "Total Service",
          "Basic-service",
          "E-Service customers",
          "E-Service customers",
          "E-Service customers",
          "Basic-service",
          "E-Service customers",
          "Plus Service",
          "Basic-service",
          "Plus Service",
          "Plus Service",
          "Plus Service",
          "Basic-service",
          "Basic-service",
          "Basic-service",
          "Basic-service",
          "E-Service customers",
          "Basic-service",
          "E-Service customers",
          "Total Service",
          "E-Service customers",
          "E-Service customers",
          "Total Service",
          "Plus Service",
          "Basic-service",
          "Total Service",
          "E-Service customers",
          "Plus Service",
          "Basic-service",
          "Basic-service",
          "Plus Service",
          "Plus Service",
          "Total Service",
          "Total Service",
          "Plus Service",
          "Total Service",
          "E-Service customers",
          "Plus Service",
          "Basic-service",
          "Total Service",
          "E-Service customers",
          "E-Service customers",
          "E-Service customers",
          "Basic-service",
          "Plus Service",
          "Total Service",
          "Total Service",
          "Total Service",
          "Plus Service",
          "Basic-service",
          "Basic-service",
          "E-Service customers",
          "Plus Service",
          "Plus Service",
          "Plus Service",
          "Basic-service",
          "Plus Service",
          "E-Service customers",
          "E-Service customers",
          "Total Service",
          "Basic-service",
          "Basic-service",
          "E-Service customers",
          "Total Service",
          "Basic-service",
          "Total Service",
          "Basic-service",
          "E-Service customers",
          "Basic-service",
          "Plus Service",
          "Total Service",
          "Total Service",
          "Basic-service",
          "Total Service",
          "Basic-service",
          "E-Service customers",
          "E-Service customers",
          "E-Service customers",
          "Basic-service",
          "Basic-service",
          "E-Service customers",
          "Plus Service",
          "Plus Service",
          "Basic-service",
          "Total Service",
          "E-Service customers",
          "Plus Service",
          "Total Service",
          "Basic-service",
          "Basic-service",
          "Plus Service",
          "Basic-service",
          "Total Service",
          "Basic-service",
          "Total Service",
          "E-Service customers",
          "E-Service customers",
          "Total Service",
          "Basic-service",
          "Plus Service",
          "Total Service",
          "Plus Service",
          "Plus Service",
          "Basic-service",
          "Basic-service",
          "Basic-service",
          "E-Service customers",
          "E-Service customers",
          "Basic-service",
          "Plus Service",
          "Total Service",
          "Total Service",
          "Basic-service",
          "Plus Service",
          "Total Service",
          "Basic-service",
          "Plus Service",
          "Basic-service",
          "Total Service",
          "Total Service",
          "Basic-service",
          "Plus Service",
          "Plus Service",
          "Plus Service",
          "Plus Service",
          "E-Service customers",
          "Basic-service",
          "Total Service",
          "E-Service customers",
          "Total Service",
          "Total Service",
          "Basic-service",
          "Total Service",
          "Basic-service",
          "Total Service",
          "Plus Service",
          "E-Service customers",
          "Basic-service",
          "Plus Service",
          "E-Service customers",
          "Basic-service",
          "Basic-service",
          "E-Service customers",
          "Basic-service",
          "Total Service",
          "E-Service customers",
          "E-Service customers",
          "Total Service",
          "Plus Service",
          "E-Service customers",
          "Basic-service",
          "Total Service",
          "Total Service",
          "Total Service",
          "Basic-service",
          "Plus Service",
          "E-Service customers",
          "Basic-service",
          "Basic-service",
          "Plus Service",
          "Plus Service",
          "Plus Service",
          "Basic-service",
          "Plus Service",
          "E-Service customers",
          "Total Service",
          "Basic-service",
          "Plus Service",
          "E-Service customers",
          "E-Service customers",
          "Plus Service",
          "Plus Service",
          "Basic-service",
          "Total Service",
          "Total Service",
          "Plus Service",
          "E-Service customers",
          "Plus Service",
          "Plus Service",
          "Total Service",
          "Plus Service",
          "Plus Service",
          "E-Service customers",
          "Total Service",
          "Plus Service",
          "E-Service customers",
          "Plus Service",
          "Total Service",
          "Total Service",
          "Plus Service",
          "Basic-service",
          "Total Service",
          "E-Service customers",
          "Plus Service",
          "Plus Service",
          "E-Service customers",
          "E-Service customers",
          "Basic-service",
          "Total Service",
          "E-Service customers",
          "Plus Service",
          "Total Service",
          "Basic-service",
          "Basic-service",
          "E-Service customers",
          "E-Service customers",
          "Total Service",
          "Total Service",
          "Basic-service",
          "Plus Service",
          "Basic-service",
          "Total Service",
          "Basic-service",
          "Total Service",
          "Plus Service",
          "E-Service customers",
          "Total Service",
          "Basic-service",
          "Plus Service",
          "Basic-service",
          "Plus Service",
          "Total Service",
          "Basic-service",
          "Basic-service",
          "Basic-service",
          "Basic-service",
          "Total Service",
          "E-Service customers",
          "Basic-service",
          "Plus Service",
          "Basic-service",
          "Basic-service",
          "Plus Service",
          "Basic-service",
          "Total Service",
          "Basic-service",
          "Total Service",
          "Plus Service",
          "Basic-service",
          "E-Service customers",
          "Plus Service",
          "Total Service",
          "Total Service",
          "Total Service",
          "Plus Service",
          "Basic-service",
          "Plus Service",
          "E-Service customers",
          "Plus Service",
          "E-Service customers",
          "E-Service customers",
          "Plus Service",
          "Plus Service",
          "Plus Service",
          "Plus Service",
          "Total Service",
          "E-Service customers",
          "Plus Service",
          "Basic-service",
          "Total Service",
          "Plus Service",
          "Basic-service",
          "Total Service",
          "Total Service",
          "Plus Service",
          "E-Service customers",
          "Total Service",
          "Basic-service",
          "Basic-service",
          "E-Service customers",
          "E-Service customers",
          "Total Service",
          "Basic-service",
          "Basic-service",
          "E-Service customers",
          "Plus Service",
          "E-Service customers",
          "E-Service customers",
          "Plus Service",
          "Basic-service",
          "Total Service",
          "Plus Service",
          "E-Service customers",
          "Basic-service",
          "Total Service",
          "Total Service",
          "Total Service",
          "Plus Service",
          "Total Service",
          "Plus Service",
          "E-Service customers",
          "Plus Service",
          "Plus Service",
          "E-Service customers",
          "Plus Service",
          "E-Service customers",
          "Plus Service",
          "Basic-service",
          "Plus Service",
          "Total Service",
          "E-Service customers",
          "Basic-service",
          "E-Service customers",
          "Total Service",
          "Basic-service",
          "E-Service customers",
          "E-Service customers",
          "Plus Service",
          "E-Service customers",
          "Basic-service",
          "Plus Service",
          "E-Service customers",
          "Basic-service",
          "E-Service customers",
          "Basic-service",
          "Plus Service",
          "Total Service",
          "E-Service customers",
          "E-Service customers",
          "Total Service",
          "Basic-service",
          "Plus Service",
          "E-Service customers",
          "Basic-service",
          "E-Service customers",
          "Basic-service",
          "E-Service customers",
          "Total Service",
          "Total Service",
          "Basic-service",
          "Total Service",
          "Plus Service",
          "Total Service",
          "Total Service",
          "Plus Service",
          "Total Service",
          "Basic-service",
          "Plus Service",
          "E-Service customers",
          "Plus Service",
          "Basic-service",
          "Total Service",
          "Plus Service",
          "Plus Service",
          "Basic-service",
          "Basic-service",
          "E-Service customers",
          "Total Service",
          "Basic-service",
          "Total Service",
          "E-Service customers",
          "Plus Service",
          "Total Service",
          "Basic-service",
          "Total Service",
          "Plus Service",
          "E-Service customers",
          "Plus Service",
          "Total Service",
          "Plus Service",
          "Basic-service",
          "E-Service customers",
          "Basic-service",
          "E-Service customers",
          "Plus Service",
          "E-Service customers",
          "Basic-service",
          "Total Service",
          "E-Service customers",
          "Total Service",
          "Plus Service",
          "E-Service customers",
          "Basic-service",
          "Basic-service",
          "Basic-service",
          "E-Service customers",
          "Basic-service",
          "Plus Service",
          "Basic-service",
          "Basic-service",
          "Plus Service",
          "E-Service customers",
          "Plus Service",
          "Basic-service",
          "Basic-service",
          "Basic-service",
          "Basic-service",
          "Plus Service",
          "Total Service",
          "E-Service customers",
          "Total Service",
          "Plus Service",
          "Plus Service",
          "E-Service customers",
          "E-Service customers",
          "E-Service customers",
          "Plus Service",
          "Basic-service",
          "Basic-service",
          "E-Service customers",
          "Total Service",
          "E-Service customers",
          "E-Service customers",
          "Total Service",
          "Total Service",
          "E-Service customers",
          "E-Service customers",
          "Total Service",
          "Total Service",
          "Basic-service",
          "Total Service",
          "Total Service",
          "Plus Service",
          "Total Service",
          "E-Service customers",
          "Plus Service",
          "Basic-service",
          "E-Service customers",
          "E-Service customers",
          "Plus Service",
          "Basic-service",
          "Total Service",
          "Basic-service",
          "Basic-service",
          "Basic-service",
          "Plus Service",
          "E-Service customers",
          "Plus Service",
          "Plus Service",
          "Total Service",
          "Plus Service",
          "Total Service",
          "Total Service",
          "Plus Service",
          "Plus Service",
          "Total Service",
          "Basic-service",
          "Plus Service",
          "Total Service",
          "Basic-service",
          "Plus Service",
          "Basic-service",
          "Basic-service",
          "E-Service customers",
          "Total Service",
          "E-Service customers",
          "Plus Service",
          "Basic-service",
          "Basic-service",
          "Plus Service",
          "Plus Service",
          "E-Service customers",
          "Total Service",
          "E-Service customers",
          "Total Service",
          "Basic-service",
          "Basic-service",
          "Plus Service",
          "E-Service customers",
          "Basic-service",
          "E-Service customers",
          "Basic-service",
          "Plus Service",
          "E-Service customers",
          "Total Service",
          "Plus Service",
          "Total Service",
          "Basic-service",
          "Basic-service",
          "Total Service",
          "Basic-service",
          "Total Service",
          "Plus Service",
          "E-Service customers",
          "Plus Service",
          "Plus Service",
          "Basic-service",
          "Basic-service",
          "Plus Service",
          "Basic-service",
          "Basic-service",
          "Basic-service",
          "Basic-service",
          "Plus Service",
          "Total Service",
          "Plus Service",
          "Basic-service",
          "Plus Service",
          "Total Service",
          "Plus Service",
          "Plus Service",
          "Total Service",
          "Basic-service",
          "Basic-service",
          "E-Service customers",
          "Basic-service",
          "Plus Service",
          "E-Service customers",
          "E-Service customers",
          "Plus Service",
          "Basic-service",
          "Total Service",
          "Basic-service",
          "Plus Service",
          "E-Service customers",
          "Plus Service",
          "Plus Service",
          "Plus Service",
          "Basic-service",
          "Basic-service",
          "Plus Service",
          "E-Service customers",
          "Total Service",
          "Plus Service",
          "Basic-service",
          "E-Service customers",
          "E-Service customers",
          "Total Service",
          "Basic-service",
          "Total Service",
          "Plus Service",
          "Basic-service",
          "Basic-service",
          "Plus Service",
          "Basic-service",
          "Plus Service",
          "Total Service",
          "Basic-service",
          "Total Service",
          "E-Service customers",
          "Basic-service",
          "Plus Service",
          "Plus Service",
          "Total Service",
          "Plus Service",
          "Plus Service",
          "Basic-service",
          "Basic-service",
          "E-Service customers",
          "Total Service",
          "Total Service",
          "Plus Service",
          "Basic-service",
          "Plus Service",
          "Basic-service",
          "Plus Service",
          "Basic-service",
          "Basic-service",
          "Plus Service",
          "Plus Service",
          "Total Service",
          "E-Service customers",
          "Basic-service",
          "Plus Service",
          "E-Service customers",
          "Basic-service",
          "Total Service",
          "Total Service",
          "Basic-service",
          "Total Service",
          "E-Service customers",
          "E-Service customers",
          "Total Service",
          "E-Service customers",
          "E-Service customers",
          "Plus Service",
          "Basic-service",
          "E-Service customers",
          "Plus Service",
          "Total Service",
          "Plus Service",
          "Total Service",
          "E-Service customers",
          "E-Service customers",
          "Plus Service",
          "Plus Service",
          "Basic-service",
          "Plus Service",
          "Plus Service",
          "E-Service customers",
          "Basic-service",
          "Total Service",
          "E-Service customers",
          "E-Service customers",
          "Plus Service",
          "E-Service customers",
          "Basic-service",
          "Total Service",
          "E-Service customers",
          "Total Service",
          "Plus Service",
          "Total Service",
          "E-Service customers",
          "E-Service customers",
          "E-Service customers",
          "Plus Service",
          "Plus Service",
          "Basic-service",
          "E-Service customers",
          "E-Service customers",
          "E-Service customers",
          "Plus Service",
          "Total Service",
          "Total Service",
          "Basic-service",
          "Total Service",
          "Total Service",
          "Total Service",
          "Basic-service",
          "Total Service",
          "Plus Service",
          "Plus Service",
          "Total Service",
          "Basic-service",
          "Basic-service",
          "Basic-service",
          "Total Service",
          "E-Service customers",
          "Plus Service",
          "E-Service customers",
          "Plus Service",
          "Basic-service",
          "Basic-service",
          "Basic-service",
          "Basic-service",
          "Total Service",
          "Basic-service",
          "E-Service customers",
          "E-Service customers",
          "Basic-service",
          "Basic-service",
          "Total Service",
          "Plus Service",
          "E-Service customers",
          "Total Service",
          "Plus Service",
          "Plus Service",
          "Basic-service",
          "Total Service",
          "E-Service customers",
          "E-Service customers",
          "E-Service customers",
          "Basic-service",
          "Total Service",
          "Total Service",
          "E-Service customers",
          "Plus Service",
          "E-Service customers",
          "Basic-service",
          "Plus Service",
          "E-Service customers",
          "Basic-service",
          "E-Service customers",
          "Total Service",
          "Total Service",
          "Plus Service",
          "Basic-service",
          "E-Service customers",
          "Total Service",
          "Total Service",
          "Plus Service",
          "E-Service customers",
          "Basic-service",
          "E-Service customers",
          "Plus Service",
          "Total Service",
          "Plus Service",
          "Plus Service",
          "E-Service customers",
          "Basic-service",
          "Total Service",
          "Total Service",
          "Total Service",
          "Basic-service",
          "Basic-service",
          "Plus Service",
          "Total Service",
          "Basic-service",
          "Basic-service",
          "Basic-service",
          "Plus Service",
          "E-Service customers",
          "E-Service customers",
          "E-Service customers",
          "Basic-service",
          "E-Service customers",
          "Plus Service",
          "Basic-service",
          "Plus Service",
          "E-Service customers",
          "Total Service",
          "Total Service",
          "Total Service",
          "Plus Service",
          "Total Service",
          "Plus Service",
          "Plus Service",
          "Plus Service",
          "Plus Service",
          "Plus Service",
          "Total Service",
          "Plus Service",
          "E-Service customers",
          "Total Service",
          "Basic-service",
          "E-Service customers",
          "Plus Service",
          "Plus Service",
          "Plus Service",
          "Plus Service",
          "Plus Service",
          "Total Service",
          "Plus Service",
          "Basic-service",
          "Plus Service",
          "Total Service",
          "Total Service",
          "Basic-service",
          "Total Service",
          "Basic-service",
          "Plus Service",
          "E-Service customers",
          "E-Service customers",
          "Plus Service",
          "E-Service customers",
          "Basic-service",
          "Basic-service",
          "Plus Service",
          "Basic-service",
          "E-Service customers",
          "Plus Service",
          "Plus Service",
          "Total Service",
          "Basic-service",
          "Plus Service",
          "Basic-service",
          "E-Service customers",
          "Basic-service",
          "Basic-service",
          "Basic-service",
          "Total Service",
          "Total Service",
          "Total Service",
          "E-Service customers",
          "Plus Service",
          "E-Service customers",
          "E-Service customers",
          "Plus Service",
          "Plus Service",
          "Basic-service",
          "Plus Service",
          "Total Service",
          "Basic-service",
          "E-Service customers",
          "Plus Service",
          "Total Service",
          "Total Service",
          "E-Service customers",
          "Total Service",
          "Basic-service",
          "Total Service",
          "Plus Service",
          "E-Service customers",
          "Total Service",
          "Plus Service",
          "Plus Service",
          "E-Service customers",
          "Basic-service",
          "Plus Service",
          "Plus Service",
          "Plus Service",
          "Total Service",
          "E-Service customers",
          "Total Service",
          "Total Service",
          "Plus Service",
          "E-Service customers",
          "Plus Service",
          "Plus Service",
          "Total Service",
          "Total Service",
          "E-Service customers",
          "Total Service",
          "Total Service",
          "E-Service customers",
          "Plus Service",
          "Total Service",
          "E-Service customers",
          "Basic-service",
          "E-Service customers",
          "E-Service customers",
          "Total Service",
          "Total Service",
          "Total Service",
          "Total Service",
          "Basic-service",
          "Basic-service",
          "Basic-service",
          "Basic-service",
          "Basic-service",
          "E-Service customers",
          "Plus Service",
          "Basic-service",
          "Plus Service",
          "Total Service",
          "E-Service customers",
          "Basic-service",
          "Plus Service",
          "Plus Service",
          "E-Service customers",
          "Plus Service",
          "Plus Service",
          "Total Service",
          "Basic-service",
          "Total Service",
          "E-Service customers",
          "Plus Service",
          "Plus Service",
          "Plus Service",
          "Total Service",
          "Basic-service",
          "Plus Service",
          "Plus Service",
          "Total Service",
          "Total Service",
          "Total Service",
          "Plus Service",
          "Total Service",
          "Basic-service",
          "Basic-service",
          "Plus Service",
          "Basic-service",
          "Plus Service",
          "Basic-service",
          "E-Service customers",
          "Total Service",
          "Plus Service",
          "Plus Service",
          "Total Service",
          "Plus Service",
          "E-Service customers",
          "Total Service",
          "E-Service customers",
          "Basic-service",
          "Total Service",
          "Plus Service",
          "Total Service",
          "Total Service",
          "Basic-service",
          "Basic-service",
          "Plus Service",
          "Plus Service",
          "Plus Service",
          "Basic-service",
          "Basic-service",
          "E-Service customers",
          "Basic-service",
          "Total Service",
          "Total Service",
          "Total Service",
          "Plus Service",
          "Basic-service",
          "Plus Service",
          "Basic-service",
          "Basic-service",
          "Plus Service",
          "Plus Service",
          "Plus Service",
          "E-Service customers",
          "Plus Service",
          "Basic-service",
          "Basic-service",
          "Plus Service",
          "E-Service customers",
          "Basic-service",
          "Plus Service",
          "Basic-service",
          "Plus Service",
          "Total Service",
          "Total Service",
          "Total Service",
          "E-Service customers",
          "Plus Service",
          "Plus Service",
          "E-Service customers",
          "Plus Service",
          "Total Service",
          "Total Service",
          "Basic-service",
          "Basic-service",
          "Total Service",
          "Plus Service",
          "E-Service customers"
         ]
        }
       ],
       "layout": {
        "barmode": "overlay",
        "legend": {
         "bgcolor": "#F5F6F9",
         "font": {
          "color": "#4D5663"
         }
        },
        "paper_bgcolor": "#F5F6F9",
        "plot_bgcolor": "#F5F6F9",
        "template": {
         "data": {
          "bar": [
           {
            "error_x": {
             "color": "#2a3f5f"
            },
            "error_y": {
             "color": "#2a3f5f"
            },
            "marker": {
             "line": {
              "color": "#E5ECF6",
              "width": 0.5
             },
             "pattern": {
              "fillmode": "overlay",
              "size": 10,
              "solidity": 0.2
             }
            },
            "type": "bar"
           }
          ],
          "barpolar": [
           {
            "marker": {
             "line": {
              "color": "#E5ECF6",
              "width": 0.5
             },
             "pattern": {
              "fillmode": "overlay",
              "size": 10,
              "solidity": 0.2
             }
            },
            "type": "barpolar"
           }
          ],
          "carpet": [
           {
            "aaxis": {
             "endlinecolor": "#2a3f5f",
             "gridcolor": "white",
             "linecolor": "white",
             "minorgridcolor": "white",
             "startlinecolor": "#2a3f5f"
            },
            "baxis": {
             "endlinecolor": "#2a3f5f",
             "gridcolor": "white",
             "linecolor": "white",
             "minorgridcolor": "white",
             "startlinecolor": "#2a3f5f"
            },
            "type": "carpet"
           }
          ],
          "choropleth": [
           {
            "colorbar": {
             "outlinewidth": 0,
             "ticks": ""
            },
            "type": "choropleth"
           }
          ],
          "contour": [
           {
            "colorbar": {
             "outlinewidth": 0,
             "ticks": ""
            },
            "colorscale": [
             [
              0,
              "#0d0887"
             ],
             [
              0.1111111111111111,
              "#46039f"
             ],
             [
              0.2222222222222222,
              "#7201a8"
             ],
             [
              0.3333333333333333,
              "#9c179e"
             ],
             [
              0.4444444444444444,
              "#bd3786"
             ],
             [
              0.5555555555555556,
              "#d8576b"
             ],
             [
              0.6666666666666666,
              "#ed7953"
             ],
             [
              0.7777777777777778,
              "#fb9f3a"
             ],
             [
              0.8888888888888888,
              "#fdca26"
             ],
             [
              1,
              "#f0f921"
             ]
            ],
            "type": "contour"
           }
          ],
          "contourcarpet": [
           {
            "colorbar": {
             "outlinewidth": 0,
             "ticks": ""
            },
            "type": "contourcarpet"
           }
          ],
          "heatmap": [
           {
            "colorbar": {
             "outlinewidth": 0,
             "ticks": ""
            },
            "colorscale": [
             [
              0,
              "#0d0887"
             ],
             [
              0.1111111111111111,
              "#46039f"
             ],
             [
              0.2222222222222222,
              "#7201a8"
             ],
             [
              0.3333333333333333,
              "#9c179e"
             ],
             [
              0.4444444444444444,
              "#bd3786"
             ],
             [
              0.5555555555555556,
              "#d8576b"
             ],
             [
              0.6666666666666666,
              "#ed7953"
             ],
             [
              0.7777777777777778,
              "#fb9f3a"
             ],
             [
              0.8888888888888888,
              "#fdca26"
             ],
             [
              1,
              "#f0f921"
             ]
            ],
            "type": "heatmap"
           }
          ],
          "heatmapgl": [
           {
            "colorbar": {
             "outlinewidth": 0,
             "ticks": ""
            },
            "colorscale": [
             [
              0,
              "#0d0887"
             ],
             [
              0.1111111111111111,
              "#46039f"
             ],
             [
              0.2222222222222222,
              "#7201a8"
             ],
             [
              0.3333333333333333,
              "#9c179e"
             ],
             [
              0.4444444444444444,
              "#bd3786"
             ],
             [
              0.5555555555555556,
              "#d8576b"
             ],
             [
              0.6666666666666666,
              "#ed7953"
             ],
             [
              0.7777777777777778,
              "#fb9f3a"
             ],
             [
              0.8888888888888888,
              "#fdca26"
             ],
             [
              1,
              "#f0f921"
             ]
            ],
            "type": "heatmapgl"
           }
          ],
          "histogram": [
           {
            "marker": {
             "pattern": {
              "fillmode": "overlay",
              "size": 10,
              "solidity": 0.2
             }
            },
            "type": "histogram"
           }
          ],
          "histogram2d": [
           {
            "colorbar": {
             "outlinewidth": 0,
             "ticks": ""
            },
            "colorscale": [
             [
              0,
              "#0d0887"
             ],
             [
              0.1111111111111111,
              "#46039f"
             ],
             [
              0.2222222222222222,
              "#7201a8"
             ],
             [
              0.3333333333333333,
              "#9c179e"
             ],
             [
              0.4444444444444444,
              "#bd3786"
             ],
             [
              0.5555555555555556,
              "#d8576b"
             ],
             [
              0.6666666666666666,
              "#ed7953"
             ],
             [
              0.7777777777777778,
              "#fb9f3a"
             ],
             [
              0.8888888888888888,
              "#fdca26"
             ],
             [
              1,
              "#f0f921"
             ]
            ],
            "type": "histogram2d"
           }
          ],
          "histogram2dcontour": [
           {
            "colorbar": {
             "outlinewidth": 0,
             "ticks": ""
            },
            "colorscale": [
             [
              0,
              "#0d0887"
             ],
             [
              0.1111111111111111,
              "#46039f"
             ],
             [
              0.2222222222222222,
              "#7201a8"
             ],
             [
              0.3333333333333333,
              "#9c179e"
             ],
             [
              0.4444444444444444,
              "#bd3786"
             ],
             [
              0.5555555555555556,
              "#d8576b"
             ],
             [
              0.6666666666666666,
              "#ed7953"
             ],
             [
              0.7777777777777778,
              "#fb9f3a"
             ],
             [
              0.8888888888888888,
              "#fdca26"
             ],
             [
              1,
              "#f0f921"
             ]
            ],
            "type": "histogram2dcontour"
           }
          ],
          "mesh3d": [
           {
            "colorbar": {
             "outlinewidth": 0,
             "ticks": ""
            },
            "type": "mesh3d"
           }
          ],
          "parcoords": [
           {
            "line": {
             "colorbar": {
              "outlinewidth": 0,
              "ticks": ""
             }
            },
            "type": "parcoords"
           }
          ],
          "pie": [
           {
            "automargin": true,
            "type": "pie"
           }
          ],
          "scatter": [
           {
            "marker": {
             "colorbar": {
              "outlinewidth": 0,
              "ticks": ""
             }
            },
            "type": "scatter"
           }
          ],
          "scatter3d": [
           {
            "line": {
             "colorbar": {
              "outlinewidth": 0,
              "ticks": ""
             }
            },
            "marker": {
             "colorbar": {
              "outlinewidth": 0,
              "ticks": ""
             }
            },
            "type": "scatter3d"
           }
          ],
          "scattercarpet": [
           {
            "marker": {
             "colorbar": {
              "outlinewidth": 0,
              "ticks": ""
             }
            },
            "type": "scattercarpet"
           }
          ],
          "scattergeo": [
           {
            "marker": {
             "colorbar": {
              "outlinewidth": 0,
              "ticks": ""
             }
            },
            "type": "scattergeo"
           }
          ],
          "scattergl": [
           {
            "marker": {
             "colorbar": {
              "outlinewidth": 0,
              "ticks": ""
             }
            },
            "type": "scattergl"
           }
          ],
          "scattermapbox": [
           {
            "marker": {
             "colorbar": {
              "outlinewidth": 0,
              "ticks": ""
             }
            },
            "type": "scattermapbox"
           }
          ],
          "scatterpolar": [
           {
            "marker": {
             "colorbar": {
              "outlinewidth": 0,
              "ticks": ""
             }
            },
            "type": "scatterpolar"
           }
          ],
          "scatterpolargl": [
           {
            "marker": {
             "colorbar": {
              "outlinewidth": 0,
              "ticks": ""
             }
            },
            "type": "scatterpolargl"
           }
          ],
          "scatterternary": [
           {
            "marker": {
             "colorbar": {
              "outlinewidth": 0,
              "ticks": ""
             }
            },
            "type": "scatterternary"
           }
          ],
          "surface": [
           {
            "colorbar": {
             "outlinewidth": 0,
             "ticks": ""
            },
            "colorscale": [
             [
              0,
              "#0d0887"
             ],
             [
              0.1111111111111111,
              "#46039f"
             ],
             [
              0.2222222222222222,
              "#7201a8"
             ],
             [
              0.3333333333333333,
              "#9c179e"
             ],
             [
              0.4444444444444444,
              "#bd3786"
             ],
             [
              0.5555555555555556,
              "#d8576b"
             ],
             [
              0.6666666666666666,
              "#ed7953"
             ],
             [
              0.7777777777777778,
              "#fb9f3a"
             ],
             [
              0.8888888888888888,
              "#fdca26"
             ],
             [
              1,
              "#f0f921"
             ]
            ],
            "type": "surface"
           }
          ],
          "table": [
           {
            "cells": {
             "fill": {
              "color": "#EBF0F8"
             },
             "line": {
              "color": "white"
             }
            },
            "header": {
             "fill": {
              "color": "#C8D4E3"
             },
             "line": {
              "color": "white"
             }
            },
            "type": "table"
           }
          ]
         },
         "layout": {
          "annotationdefaults": {
           "arrowcolor": "#2a3f5f",
           "arrowhead": 0,
           "arrowwidth": 1
          },
          "autotypenumbers": "strict",
          "coloraxis": {
           "colorbar": {
            "outlinewidth": 0,
            "ticks": ""
           }
          },
          "colorscale": {
           "diverging": [
            [
             0,
             "#8e0152"
            ],
            [
             0.1,
             "#c51b7d"
            ],
            [
             0.2,
             "#de77ae"
            ],
            [
             0.3,
             "#f1b6da"
            ],
            [
             0.4,
             "#fde0ef"
            ],
            [
             0.5,
             "#f7f7f7"
            ],
            [
             0.6,
             "#e6f5d0"
            ],
            [
             0.7,
             "#b8e186"
            ],
            [
             0.8,
             "#7fbc41"
            ],
            [
             0.9,
             "#4d9221"
            ],
            [
             1,
             "#276419"
            ]
           ],
           "sequential": [
            [
             0,
             "#0d0887"
            ],
            [
             0.1111111111111111,
             "#46039f"
            ],
            [
             0.2222222222222222,
             "#7201a8"
            ],
            [
             0.3333333333333333,
             "#9c179e"
            ],
            [
             0.4444444444444444,
             "#bd3786"
            ],
            [
             0.5555555555555556,
             "#d8576b"
            ],
            [
             0.6666666666666666,
             "#ed7953"
            ],
            [
             0.7777777777777778,
             "#fb9f3a"
            ],
            [
             0.8888888888888888,
             "#fdca26"
            ],
            [
             1,
             "#f0f921"
            ]
           ],
           "sequentialminus": [
            [
             0,
             "#0d0887"
            ],
            [
             0.1111111111111111,
             "#46039f"
            ],
            [
             0.2222222222222222,
             "#7201a8"
            ],
            [
             0.3333333333333333,
             "#9c179e"
            ],
            [
             0.4444444444444444,
             "#bd3786"
            ],
            [
             0.5555555555555556,
             "#d8576b"
            ],
            [
             0.6666666666666666,
             "#ed7953"
            ],
            [
             0.7777777777777778,
             "#fb9f3a"
            ],
            [
             0.8888888888888888,
             "#fdca26"
            ],
            [
             1,
             "#f0f921"
            ]
           ]
          },
          "colorway": [
           "#636efa",
           "#EF553B",
           "#00cc96",
           "#ab63fa",
           "#FFA15A",
           "#19d3f3",
           "#FF6692",
           "#B6E880",
           "#FF97FF",
           "#FECB52"
          ],
          "font": {
           "color": "#2a3f5f"
          },
          "geo": {
           "bgcolor": "white",
           "lakecolor": "white",
           "landcolor": "#E5ECF6",
           "showlakes": true,
           "showland": true,
           "subunitcolor": "white"
          },
          "hoverlabel": {
           "align": "left"
          },
          "hovermode": "closest",
          "mapbox": {
           "style": "light"
          },
          "paper_bgcolor": "white",
          "plot_bgcolor": "#E5ECF6",
          "polar": {
           "angularaxis": {
            "gridcolor": "white",
            "linecolor": "white",
            "ticks": ""
           },
           "bgcolor": "#E5ECF6",
           "radialaxis": {
            "gridcolor": "white",
            "linecolor": "white",
            "ticks": ""
           }
          },
          "scene": {
           "xaxis": {
            "backgroundcolor": "#E5ECF6",
            "gridcolor": "white",
            "gridwidth": 2,
            "linecolor": "white",
            "showbackground": true,
            "ticks": "",
            "zerolinecolor": "white"
           },
           "yaxis": {
            "backgroundcolor": "#E5ECF6",
            "gridcolor": "white",
            "gridwidth": 2,
            "linecolor": "white",
            "showbackground": true,
            "ticks": "",
            "zerolinecolor": "white"
           },
           "zaxis": {
            "backgroundcolor": "#E5ECF6",
            "gridcolor": "white",
            "gridwidth": 2,
            "linecolor": "white",
            "showbackground": true,
            "ticks": "",
            "zerolinecolor": "white"
           }
          },
          "shapedefaults": {
           "line": {
            "color": "#2a3f5f"
           }
          },
          "ternary": {
           "aaxis": {
            "gridcolor": "white",
            "linecolor": "white",
            "ticks": ""
           },
           "baxis": {
            "gridcolor": "white",
            "linecolor": "white",
            "ticks": ""
           },
           "bgcolor": "#E5ECF6",
           "caxis": {
            "gridcolor": "white",
            "linecolor": "white",
            "ticks": ""
           }
          },
          "title": {
           "x": 0.05
          },
          "xaxis": {
           "automargin": true,
           "gridcolor": "white",
           "linecolor": "white",
           "ticks": "",
           "title": {
            "standoff": 15
           },
           "zerolinecolor": "white",
           "zerolinewidth": 2
          },
          "yaxis": {
           "automargin": true,
           "gridcolor": "white",
           "linecolor": "white",
           "ticks": "",
           "title": {
            "standoff": 15
           },
           "zerolinecolor": "white",
           "zerolinewidth": 2
          }
         }
        },
        "title": {
         "font": {
          "color": "#4D5663"
         }
        },
        "xaxis": {
         "gridcolor": "#E1E5ED",
         "showgrid": true,
         "tickfont": {
          "color": "#4D5663"
         },
         "title": {
          "font": {
           "color": "#4D5663"
          },
          "text": ""
         },
         "zerolinecolor": "#E1E5ED"
        },
        "yaxis": {
         "gridcolor": "#E1E5ED",
         "showgrid": true,
         "tickfont": {
          "color": "#4D5663"
         },
         "title": {
          "font": {
           "color": "#4D5663"
          },
          "text": ""
         },
         "zerolinecolor": "#E1E5ED"
        }
       }
      },
      "text/html": [
       "<div>                            <div id=\"d0a332f2-aa91-47b8-bd10-808607f7eb1b\" class=\"plotly-graph-div\" style=\"height:525px; width:100%;\"></div>            <script type=\"text/javascript\">                require([\"plotly\"], function(Plotly) {                    window.PLOTLYENV=window.PLOTLYENV || {};\n",
       "                    window.PLOTLYENV.BASE_URL='https://plot.ly';                                    if (document.getElementById(\"d0a332f2-aa91-47b8-bd10-808607f7eb1b\")) {                    Plotly.newPlot(                        \"d0a332f2-aa91-47b8-bd10-808607f7eb1b\",                        [{\"histfunc\":\"count\",\"histnorm\":\"\",\"marker\":{\"color\":\"rgba(255, 153, 51, 1.0)\",\"line\":{\"color\":\"#4D5663\",\"width\":1.3}},\"name\":\"custcat\",\"opacity\":0.8,\"orientation\":\"v\",\"x\":[\"Basic-service\",\"Total Service\",\"Plus Service\",\"Basic-service\",\"Plus Service\",\"Plus Service\",\"E-Service customers\",\"Total Service\",\"Plus Service\",\"E-Service customers\",\"Basic-service\",\"Plus Service\",\"Basic-service\",\"Total Service\",\"Basic-service\",\"E-Service customers\",\"Plus Service\",\"Plus Service\",\"Basic-service\",\"Total Service\",\"E-Service customers\",\"Basic-service\",\"Total Service\",\"Basic-service\",\"Plus Service\",\"Plus Service\",\"Total Service\",\"Plus Service\",\"Basic-service\",\"E-Service customers\",\"E-Service customers\",\"Total Service\",\"Plus Service\",\"E-Service customers\",\"Total Service\",\"E-Service customers\",\"Total Service\",\"Plus Service\",\"Plus Service\",\"Plus Service\",\"Plus Service\",\"Plus Service\",\"Basic-service\",\"Total Service\",\"Plus Service\",\"E-Service customers\",\"E-Service customers\",\"Total Service\",\"Basic-service\",\"Plus Service\",\"Basic-service\",\"E-Service customers\",\"Total Service\",\"Basic-service\",\"Basic-service\",\"Basic-service\",\"E-Service customers\",\"Basic-service\",\"Plus Service\",\"E-Service customers\",\"Plus Service\",\"Total Service\",\"Basic-service\",\"Total Service\",\"Total Service\",\"Basic-service\",\"Plus Service\",\"Plus Service\",\"Basic-service\",\"Basic-service\",\"Basic-service\",\"E-Service customers\",\"Basic-service\",\"E-Service customers\",\"Plus Service\",\"Basic-service\",\"Plus Service\",\"Basic-service\",\"Plus Service\",\"Total Service\",\"Total Service\",\"Basic-service\",\"Total Service\",\"Plus Service\",\"E-Service customers\",\"Basic-service\",\"E-Service customers\",\"Total Service\",\"Total Service\",\"Plus Service\",\"E-Service customers\",\"Basic-service\",\"E-Service customers\",\"Total Service\",\"Basic-service\",\"Total Service\",\"Plus Service\",\"E-Service customers\",\"Plus Service\",\"E-Service customers\",\"Total Service\",\"Plus Service\",\"Plus Service\",\"E-Service customers\",\"E-Service customers\",\"E-Service customers\",\"Basic-service\",\"Total Service\",\"Basic-service\",\"E-Service customers\",\"E-Service customers\",\"E-Service customers\",\"Basic-service\",\"E-Service customers\",\"Plus Service\",\"Basic-service\",\"Plus Service\",\"Plus Service\",\"Plus Service\",\"Basic-service\",\"Basic-service\",\"Basic-service\",\"Basic-service\",\"E-Service customers\",\"Basic-service\",\"E-Service customers\",\"Total Service\",\"E-Service customers\",\"E-Service customers\",\"Total Service\",\"Plus Service\",\"Basic-service\",\"Total Service\",\"E-Service customers\",\"Plus Service\",\"Basic-service\",\"Basic-service\",\"Plus Service\",\"Plus Service\",\"Total Service\",\"Total Service\",\"Plus Service\",\"Total Service\",\"E-Service customers\",\"Plus Service\",\"Basic-service\",\"Total Service\",\"E-Service customers\",\"E-Service customers\",\"E-Service customers\",\"Basic-service\",\"Plus Service\",\"Total Service\",\"Total Service\",\"Total Service\",\"Plus Service\",\"Basic-service\",\"Basic-service\",\"E-Service customers\",\"Plus Service\",\"Plus Service\",\"Plus Service\",\"Basic-service\",\"Plus Service\",\"E-Service customers\",\"E-Service customers\",\"Total Service\",\"Basic-service\",\"Basic-service\",\"E-Service customers\",\"Total Service\",\"Basic-service\",\"Total Service\",\"Basic-service\",\"E-Service customers\",\"Basic-service\",\"Plus Service\",\"Total Service\",\"Total Service\",\"Basic-service\",\"Total Service\",\"Basic-service\",\"E-Service customers\",\"E-Service customers\",\"E-Service customers\",\"Basic-service\",\"Basic-service\",\"E-Service customers\",\"Plus Service\",\"Plus Service\",\"Basic-service\",\"Total Service\",\"E-Service customers\",\"Plus Service\",\"Total Service\",\"Basic-service\",\"Basic-service\",\"Plus Service\",\"Basic-service\",\"Total Service\",\"Basic-service\",\"Total Service\",\"E-Service customers\",\"E-Service customers\",\"Total Service\",\"Basic-service\",\"Plus Service\",\"Total Service\",\"Plus Service\",\"Plus Service\",\"Basic-service\",\"Basic-service\",\"Basic-service\",\"E-Service customers\",\"E-Service customers\",\"Basic-service\",\"Plus Service\",\"Total Service\",\"Total Service\",\"Basic-service\",\"Plus Service\",\"Total Service\",\"Basic-service\",\"Plus Service\",\"Basic-service\",\"Total Service\",\"Total Service\",\"Basic-service\",\"Plus Service\",\"Plus Service\",\"Plus Service\",\"Plus Service\",\"E-Service customers\",\"Basic-service\",\"Total Service\",\"E-Service customers\",\"Total Service\",\"Total Service\",\"Basic-service\",\"Total Service\",\"Basic-service\",\"Total Service\",\"Plus Service\",\"E-Service customers\",\"Basic-service\",\"Plus Service\",\"E-Service customers\",\"Basic-service\",\"Basic-service\",\"E-Service customers\",\"Basic-service\",\"Total Service\",\"E-Service customers\",\"E-Service customers\",\"Total Service\",\"Plus Service\",\"E-Service customers\",\"Basic-service\",\"Total Service\",\"Total Service\",\"Total Service\",\"Basic-service\",\"Plus Service\",\"E-Service customers\",\"Basic-service\",\"Basic-service\",\"Plus Service\",\"Plus Service\",\"Plus Service\",\"Basic-service\",\"Plus Service\",\"E-Service customers\",\"Total Service\",\"Basic-service\",\"Plus Service\",\"E-Service customers\",\"E-Service customers\",\"Plus Service\",\"Plus Service\",\"Basic-service\",\"Total Service\",\"Total Service\",\"Plus Service\",\"E-Service customers\",\"Plus Service\",\"Plus Service\",\"Total Service\",\"Plus Service\",\"Plus Service\",\"E-Service customers\",\"Total Service\",\"Plus Service\",\"E-Service customers\",\"Plus Service\",\"Total Service\",\"Total Service\",\"Plus Service\",\"Basic-service\",\"Total Service\",\"E-Service customers\",\"Plus Service\",\"Plus Service\",\"E-Service customers\",\"E-Service customers\",\"Basic-service\",\"Total Service\",\"E-Service customers\",\"Plus Service\",\"Total Service\",\"Basic-service\",\"Basic-service\",\"E-Service customers\",\"E-Service customers\",\"Total Service\",\"Total Service\",\"Basic-service\",\"Plus Service\",\"Basic-service\",\"Total Service\",\"Basic-service\",\"Total Service\",\"Plus Service\",\"E-Service customers\",\"Total Service\",\"Basic-service\",\"Plus Service\",\"Basic-service\",\"Plus Service\",\"Total Service\",\"Basic-service\",\"Basic-service\",\"Basic-service\",\"Basic-service\",\"Total Service\",\"E-Service customers\",\"Basic-service\",\"Plus Service\",\"Basic-service\",\"Basic-service\",\"Plus Service\",\"Basic-service\",\"Total Service\",\"Basic-service\",\"Total Service\",\"Plus Service\",\"Basic-service\",\"E-Service customers\",\"Plus Service\",\"Total Service\",\"Total Service\",\"Total Service\",\"Plus Service\",\"Basic-service\",\"Plus Service\",\"E-Service customers\",\"Plus Service\",\"E-Service customers\",\"E-Service customers\",\"Plus Service\",\"Plus Service\",\"Plus Service\",\"Plus Service\",\"Total Service\",\"E-Service customers\",\"Plus Service\",\"Basic-service\",\"Total Service\",\"Plus Service\",\"Basic-service\",\"Total Service\",\"Total Service\",\"Plus Service\",\"E-Service customers\",\"Total Service\",\"Basic-service\",\"Basic-service\",\"E-Service customers\",\"E-Service customers\",\"Total Service\",\"Basic-service\",\"Basic-service\",\"E-Service customers\",\"Plus Service\",\"E-Service customers\",\"E-Service customers\",\"Plus Service\",\"Basic-service\",\"Total Service\",\"Plus Service\",\"E-Service customers\",\"Basic-service\",\"Total Service\",\"Total Service\",\"Total Service\",\"Plus Service\",\"Total Service\",\"Plus Service\",\"E-Service customers\",\"Plus Service\",\"Plus Service\",\"E-Service customers\",\"Plus Service\",\"E-Service customers\",\"Plus Service\",\"Basic-service\",\"Plus Service\",\"Total Service\",\"E-Service customers\",\"Basic-service\",\"E-Service customers\",\"Total Service\",\"Basic-service\",\"E-Service customers\",\"E-Service customers\",\"Plus Service\",\"E-Service customers\",\"Basic-service\",\"Plus Service\",\"E-Service customers\",\"Basic-service\",\"E-Service customers\",\"Basic-service\",\"Plus Service\",\"Total Service\",\"E-Service customers\",\"E-Service customers\",\"Total Service\",\"Basic-service\",\"Plus Service\",\"E-Service customers\",\"Basic-service\",\"E-Service customers\",\"Basic-service\",\"E-Service customers\",\"Total Service\",\"Total Service\",\"Basic-service\",\"Total Service\",\"Plus Service\",\"Total Service\",\"Total Service\",\"Plus Service\",\"Total Service\",\"Basic-service\",\"Plus Service\",\"E-Service customers\",\"Plus Service\",\"Basic-service\",\"Total Service\",\"Plus Service\",\"Plus Service\",\"Basic-service\",\"Basic-service\",\"E-Service customers\",\"Total Service\",\"Basic-service\",\"Total Service\",\"E-Service customers\",\"Plus Service\",\"Total Service\",\"Basic-service\",\"Total Service\",\"Plus Service\",\"E-Service customers\",\"Plus Service\",\"Total Service\",\"Plus Service\",\"Basic-service\",\"E-Service customers\",\"Basic-service\",\"E-Service customers\",\"Plus Service\",\"E-Service customers\",\"Basic-service\",\"Total Service\",\"E-Service customers\",\"Total Service\",\"Plus Service\",\"E-Service customers\",\"Basic-service\",\"Basic-service\",\"Basic-service\",\"E-Service customers\",\"Basic-service\",\"Plus Service\",\"Basic-service\",\"Basic-service\",\"Plus Service\",\"E-Service customers\",\"Plus Service\",\"Basic-service\",\"Basic-service\",\"Basic-service\",\"Basic-service\",\"Plus Service\",\"Total Service\",\"E-Service customers\",\"Total Service\",\"Plus Service\",\"Plus Service\",\"E-Service customers\",\"E-Service customers\",\"E-Service customers\",\"Plus Service\",\"Basic-service\",\"Basic-service\",\"E-Service customers\",\"Total Service\",\"E-Service customers\",\"E-Service customers\",\"Total Service\",\"Total Service\",\"E-Service customers\",\"E-Service customers\",\"Total Service\",\"Total Service\",\"Basic-service\",\"Total Service\",\"Total Service\",\"Plus Service\",\"Total Service\",\"E-Service customers\",\"Plus Service\",\"Basic-service\",\"E-Service customers\",\"E-Service customers\",\"Plus Service\",\"Basic-service\",\"Total Service\",\"Basic-service\",\"Basic-service\",\"Basic-service\",\"Plus Service\",\"E-Service customers\",\"Plus Service\",\"Plus Service\",\"Total Service\",\"Plus Service\",\"Total Service\",\"Total Service\",\"Plus Service\",\"Plus Service\",\"Total Service\",\"Basic-service\",\"Plus Service\",\"Total Service\",\"Basic-service\",\"Plus Service\",\"Basic-service\",\"Basic-service\",\"E-Service customers\",\"Total Service\",\"E-Service customers\",\"Plus Service\",\"Basic-service\",\"Basic-service\",\"Plus Service\",\"Plus Service\",\"E-Service customers\",\"Total Service\",\"E-Service customers\",\"Total Service\",\"Basic-service\",\"Basic-service\",\"Plus Service\",\"E-Service customers\",\"Basic-service\",\"E-Service customers\",\"Basic-service\",\"Plus Service\",\"E-Service customers\",\"Total Service\",\"Plus Service\",\"Total Service\",\"Basic-service\",\"Basic-service\",\"Total Service\",\"Basic-service\",\"Total Service\",\"Plus Service\",\"E-Service customers\",\"Plus Service\",\"Plus Service\",\"Basic-service\",\"Basic-service\",\"Plus Service\",\"Basic-service\",\"Basic-service\",\"Basic-service\",\"Basic-service\",\"Plus Service\",\"Total Service\",\"Plus Service\",\"Basic-service\",\"Plus Service\",\"Total Service\",\"Plus Service\",\"Plus Service\",\"Total Service\",\"Basic-service\",\"Basic-service\",\"E-Service customers\",\"Basic-service\",\"Plus Service\",\"E-Service customers\",\"E-Service customers\",\"Plus Service\",\"Basic-service\",\"Total Service\",\"Basic-service\",\"Plus Service\",\"E-Service customers\",\"Plus Service\",\"Plus Service\",\"Plus Service\",\"Basic-service\",\"Basic-service\",\"Plus Service\",\"E-Service customers\",\"Total Service\",\"Plus Service\",\"Basic-service\",\"E-Service customers\",\"E-Service customers\",\"Total Service\",\"Basic-service\",\"Total Service\",\"Plus Service\",\"Basic-service\",\"Basic-service\",\"Plus Service\",\"Basic-service\",\"Plus Service\",\"Total Service\",\"Basic-service\",\"Total Service\",\"E-Service customers\",\"Basic-service\",\"Plus Service\",\"Plus Service\",\"Total Service\",\"Plus Service\",\"Plus Service\",\"Basic-service\",\"Basic-service\",\"E-Service customers\",\"Total Service\",\"Total Service\",\"Plus Service\",\"Basic-service\",\"Plus Service\",\"Basic-service\",\"Plus Service\",\"Basic-service\",\"Basic-service\",\"Plus Service\",\"Plus Service\",\"Total Service\",\"E-Service customers\",\"Basic-service\",\"Plus Service\",\"E-Service customers\",\"Basic-service\",\"Total Service\",\"Total Service\",\"Basic-service\",\"Total Service\",\"E-Service customers\",\"E-Service customers\",\"Total Service\",\"E-Service customers\",\"E-Service customers\",\"Plus Service\",\"Basic-service\",\"E-Service customers\",\"Plus Service\",\"Total Service\",\"Plus Service\",\"Total Service\",\"E-Service customers\",\"E-Service customers\",\"Plus Service\",\"Plus Service\",\"Basic-service\",\"Plus Service\",\"Plus Service\",\"E-Service customers\",\"Basic-service\",\"Total Service\",\"E-Service customers\",\"E-Service customers\",\"Plus Service\",\"E-Service customers\",\"Basic-service\",\"Total Service\",\"E-Service customers\",\"Total Service\",\"Plus Service\",\"Total Service\",\"E-Service customers\",\"E-Service customers\",\"E-Service customers\",\"Plus Service\",\"Plus Service\",\"Basic-service\",\"E-Service customers\",\"E-Service customers\",\"E-Service customers\",\"Plus Service\",\"Total Service\",\"Total Service\",\"Basic-service\",\"Total Service\",\"Total Service\",\"Total Service\",\"Basic-service\",\"Total Service\",\"Plus Service\",\"Plus Service\",\"Total Service\",\"Basic-service\",\"Basic-service\",\"Basic-service\",\"Total Service\",\"E-Service customers\",\"Plus Service\",\"E-Service customers\",\"Plus Service\",\"Basic-service\",\"Basic-service\",\"Basic-service\",\"Basic-service\",\"Total Service\",\"Basic-service\",\"E-Service customers\",\"E-Service customers\",\"Basic-service\",\"Basic-service\",\"Total Service\",\"Plus Service\",\"E-Service customers\",\"Total Service\",\"Plus Service\",\"Plus Service\",\"Basic-service\",\"Total Service\",\"E-Service customers\",\"E-Service customers\",\"E-Service customers\",\"Basic-service\",\"Total Service\",\"Total Service\",\"E-Service customers\",\"Plus Service\",\"E-Service customers\",\"Basic-service\",\"Plus Service\",\"E-Service customers\",\"Basic-service\",\"E-Service customers\",\"Total Service\",\"Total Service\",\"Plus Service\",\"Basic-service\",\"E-Service customers\",\"Total Service\",\"Total Service\",\"Plus Service\",\"E-Service customers\",\"Basic-service\",\"E-Service customers\",\"Plus Service\",\"Total Service\",\"Plus Service\",\"Plus Service\",\"E-Service customers\",\"Basic-service\",\"Total Service\",\"Total Service\",\"Total Service\",\"Basic-service\",\"Basic-service\",\"Plus Service\",\"Total Service\",\"Basic-service\",\"Basic-service\",\"Basic-service\",\"Plus Service\",\"E-Service customers\",\"E-Service customers\",\"E-Service customers\",\"Basic-service\",\"E-Service customers\",\"Plus Service\",\"Basic-service\",\"Plus Service\",\"E-Service customers\",\"Total Service\",\"Total Service\",\"Total Service\",\"Plus Service\",\"Total Service\",\"Plus Service\",\"Plus Service\",\"Plus Service\",\"Plus Service\",\"Plus Service\",\"Total Service\",\"Plus Service\",\"E-Service customers\",\"Total Service\",\"Basic-service\",\"E-Service customers\",\"Plus Service\",\"Plus Service\",\"Plus Service\",\"Plus Service\",\"Plus Service\",\"Total Service\",\"Plus Service\",\"Basic-service\",\"Plus Service\",\"Total Service\",\"Total Service\",\"Basic-service\",\"Total Service\",\"Basic-service\",\"Plus Service\",\"E-Service customers\",\"E-Service customers\",\"Plus Service\",\"E-Service customers\",\"Basic-service\",\"Basic-service\",\"Plus Service\",\"Basic-service\",\"E-Service customers\",\"Plus Service\",\"Plus Service\",\"Total Service\",\"Basic-service\",\"Plus Service\",\"Basic-service\",\"E-Service customers\",\"Basic-service\",\"Basic-service\",\"Basic-service\",\"Total Service\",\"Total Service\",\"Total Service\",\"E-Service customers\",\"Plus Service\",\"E-Service customers\",\"E-Service customers\",\"Plus Service\",\"Plus Service\",\"Basic-service\",\"Plus Service\",\"Total Service\",\"Basic-service\",\"E-Service customers\",\"Plus Service\",\"Total Service\",\"Total Service\",\"E-Service customers\",\"Total Service\",\"Basic-service\",\"Total Service\",\"Plus Service\",\"E-Service customers\",\"Total Service\",\"Plus Service\",\"Plus Service\",\"E-Service customers\",\"Basic-service\",\"Plus Service\",\"Plus Service\",\"Plus Service\",\"Total Service\",\"E-Service customers\",\"Total Service\",\"Total Service\",\"Plus Service\",\"E-Service customers\",\"Plus Service\",\"Plus Service\",\"Total Service\",\"Total Service\",\"E-Service customers\",\"Total Service\",\"Total Service\",\"E-Service customers\",\"Plus Service\",\"Total Service\",\"E-Service customers\",\"Basic-service\",\"E-Service customers\",\"E-Service customers\",\"Total Service\",\"Total Service\",\"Total Service\",\"Total Service\",\"Basic-service\",\"Basic-service\",\"Basic-service\",\"Basic-service\",\"Basic-service\",\"E-Service customers\",\"Plus Service\",\"Basic-service\",\"Plus Service\",\"Total Service\",\"E-Service customers\",\"Basic-service\",\"Plus Service\",\"Plus Service\",\"E-Service customers\",\"Plus Service\",\"Plus Service\",\"Total Service\",\"Basic-service\",\"Total Service\",\"E-Service customers\",\"Plus Service\",\"Plus Service\",\"Plus Service\",\"Total Service\",\"Basic-service\",\"Plus Service\",\"Plus Service\",\"Total Service\",\"Total Service\",\"Total Service\",\"Plus Service\",\"Total Service\",\"Basic-service\",\"Basic-service\",\"Plus Service\",\"Basic-service\",\"Plus Service\",\"Basic-service\",\"E-Service customers\",\"Total Service\",\"Plus Service\",\"Plus Service\",\"Total Service\",\"Plus Service\",\"E-Service customers\",\"Total Service\",\"E-Service customers\",\"Basic-service\",\"Total Service\",\"Plus Service\",\"Total Service\",\"Total Service\",\"Basic-service\",\"Basic-service\",\"Plus Service\",\"Plus Service\",\"Plus Service\",\"Basic-service\",\"Basic-service\",\"E-Service customers\",\"Basic-service\",\"Total Service\",\"Total Service\",\"Total Service\",\"Plus Service\",\"Basic-service\",\"Plus Service\",\"Basic-service\",\"Basic-service\",\"Plus Service\",\"Plus Service\",\"Plus Service\",\"E-Service customers\",\"Plus Service\",\"Basic-service\",\"Basic-service\",\"Plus Service\",\"E-Service customers\",\"Basic-service\",\"Plus Service\",\"Basic-service\",\"Plus Service\",\"Total Service\",\"Total Service\",\"Total Service\",\"E-Service customers\",\"Plus Service\",\"Plus Service\",\"E-Service customers\",\"Plus Service\",\"Total Service\",\"Total Service\",\"Basic-service\",\"Basic-service\",\"Total Service\",\"Plus Service\",\"E-Service customers\"],\"type\":\"histogram\"}],                        {\"barmode\":\"overlay\",\"legend\":{\"bgcolor\":\"#F5F6F9\",\"font\":{\"color\":\"#4D5663\"}},\"paper_bgcolor\":\"#F5F6F9\",\"plot_bgcolor\":\"#F5F6F9\",\"template\":{\"data\":{\"barpolar\":[{\"marker\":{\"line\":{\"color\":\"#E5ECF6\",\"width\":0.5},\"pattern\":{\"fillmode\":\"overlay\",\"size\":10,\"solidity\":0.2}},\"type\":\"barpolar\"}],\"bar\":[{\"error_x\":{\"color\":\"#2a3f5f\"},\"error_y\":{\"color\":\"#2a3f5f\"},\"marker\":{\"line\":{\"color\":\"#E5ECF6\",\"width\":0.5},\"pattern\":{\"fillmode\":\"overlay\",\"size\":10,\"solidity\":0.2}},\"type\":\"bar\"}],\"carpet\":[{\"aaxis\":{\"endlinecolor\":\"#2a3f5f\",\"gridcolor\":\"white\",\"linecolor\":\"white\",\"minorgridcolor\":\"white\",\"startlinecolor\":\"#2a3f5f\"},\"baxis\":{\"endlinecolor\":\"#2a3f5f\",\"gridcolor\":\"white\",\"linecolor\":\"white\",\"minorgridcolor\":\"white\",\"startlinecolor\":\"#2a3f5f\"},\"type\":\"carpet\"}],\"choropleth\":[{\"colorbar\":{\"outlinewidth\":0,\"ticks\":\"\"},\"type\":\"choropleth\"}],\"contourcarpet\":[{\"colorbar\":{\"outlinewidth\":0,\"ticks\":\"\"},\"type\":\"contourcarpet\"}],\"contour\":[{\"colorbar\":{\"outlinewidth\":0,\"ticks\":\"\"},\"colorscale\":[[0.0,\"#0d0887\"],[0.1111111111111111,\"#46039f\"],[0.2222222222222222,\"#7201a8\"],[0.3333333333333333,\"#9c179e\"],[0.4444444444444444,\"#bd3786\"],[0.5555555555555556,\"#d8576b\"],[0.6666666666666666,\"#ed7953\"],[0.7777777777777778,\"#fb9f3a\"],[0.8888888888888888,\"#fdca26\"],[1.0,\"#f0f921\"]],\"type\":\"contour\"}],\"heatmapgl\":[{\"colorbar\":{\"outlinewidth\":0,\"ticks\":\"\"},\"colorscale\":[[0.0,\"#0d0887\"],[0.1111111111111111,\"#46039f\"],[0.2222222222222222,\"#7201a8\"],[0.3333333333333333,\"#9c179e\"],[0.4444444444444444,\"#bd3786\"],[0.5555555555555556,\"#d8576b\"],[0.6666666666666666,\"#ed7953\"],[0.7777777777777778,\"#fb9f3a\"],[0.8888888888888888,\"#fdca26\"],[1.0,\"#f0f921\"]],\"type\":\"heatmapgl\"}],\"heatmap\":[{\"colorbar\":{\"outlinewidth\":0,\"ticks\":\"\"},\"colorscale\":[[0.0,\"#0d0887\"],[0.1111111111111111,\"#46039f\"],[0.2222222222222222,\"#7201a8\"],[0.3333333333333333,\"#9c179e\"],[0.4444444444444444,\"#bd3786\"],[0.5555555555555556,\"#d8576b\"],[0.6666666666666666,\"#ed7953\"],[0.7777777777777778,\"#fb9f3a\"],[0.8888888888888888,\"#fdca26\"],[1.0,\"#f0f921\"]],\"type\":\"heatmap\"}],\"histogram2dcontour\":[{\"colorbar\":{\"outlinewidth\":0,\"ticks\":\"\"},\"colorscale\":[[0.0,\"#0d0887\"],[0.1111111111111111,\"#46039f\"],[0.2222222222222222,\"#7201a8\"],[0.3333333333333333,\"#9c179e\"],[0.4444444444444444,\"#bd3786\"],[0.5555555555555556,\"#d8576b\"],[0.6666666666666666,\"#ed7953\"],[0.7777777777777778,\"#fb9f3a\"],[0.8888888888888888,\"#fdca26\"],[1.0,\"#f0f921\"]],\"type\":\"histogram2dcontour\"}],\"histogram2d\":[{\"colorbar\":{\"outlinewidth\":0,\"ticks\":\"\"},\"colorscale\":[[0.0,\"#0d0887\"],[0.1111111111111111,\"#46039f\"],[0.2222222222222222,\"#7201a8\"],[0.3333333333333333,\"#9c179e\"],[0.4444444444444444,\"#bd3786\"],[0.5555555555555556,\"#d8576b\"],[0.6666666666666666,\"#ed7953\"],[0.7777777777777778,\"#fb9f3a\"],[0.8888888888888888,\"#fdca26\"],[1.0,\"#f0f921\"]],\"type\":\"histogram2d\"}],\"histogram\":[{\"marker\":{\"pattern\":{\"fillmode\":\"overlay\",\"size\":10,\"solidity\":0.2}},\"type\":\"histogram\"}],\"mesh3d\":[{\"colorbar\":{\"outlinewidth\":0,\"ticks\":\"\"},\"type\":\"mesh3d\"}],\"parcoords\":[{\"line\":{\"colorbar\":{\"outlinewidth\":0,\"ticks\":\"\"}},\"type\":\"parcoords\"}],\"pie\":[{\"automargin\":true,\"type\":\"pie\"}],\"scatter3d\":[{\"line\":{\"colorbar\":{\"outlinewidth\":0,\"ticks\":\"\"}},\"marker\":{\"colorbar\":{\"outlinewidth\":0,\"ticks\":\"\"}},\"type\":\"scatter3d\"}],\"scattercarpet\":[{\"marker\":{\"colorbar\":{\"outlinewidth\":0,\"ticks\":\"\"}},\"type\":\"scattercarpet\"}],\"scattergeo\":[{\"marker\":{\"colorbar\":{\"outlinewidth\":0,\"ticks\":\"\"}},\"type\":\"scattergeo\"}],\"scattergl\":[{\"marker\":{\"colorbar\":{\"outlinewidth\":0,\"ticks\":\"\"}},\"type\":\"scattergl\"}],\"scattermapbox\":[{\"marker\":{\"colorbar\":{\"outlinewidth\":0,\"ticks\":\"\"}},\"type\":\"scattermapbox\"}],\"scatterpolargl\":[{\"marker\":{\"colorbar\":{\"outlinewidth\":0,\"ticks\":\"\"}},\"type\":\"scatterpolargl\"}],\"scatterpolar\":[{\"marker\":{\"colorbar\":{\"outlinewidth\":0,\"ticks\":\"\"}},\"type\":\"scatterpolar\"}],\"scatter\":[{\"marker\":{\"colorbar\":{\"outlinewidth\":0,\"ticks\":\"\"}},\"type\":\"scatter\"}],\"scatterternary\":[{\"marker\":{\"colorbar\":{\"outlinewidth\":0,\"ticks\":\"\"}},\"type\":\"scatterternary\"}],\"surface\":[{\"colorbar\":{\"outlinewidth\":0,\"ticks\":\"\"},\"colorscale\":[[0.0,\"#0d0887\"],[0.1111111111111111,\"#46039f\"],[0.2222222222222222,\"#7201a8\"],[0.3333333333333333,\"#9c179e\"],[0.4444444444444444,\"#bd3786\"],[0.5555555555555556,\"#d8576b\"],[0.6666666666666666,\"#ed7953\"],[0.7777777777777778,\"#fb9f3a\"],[0.8888888888888888,\"#fdca26\"],[1.0,\"#f0f921\"]],\"type\":\"surface\"}],\"table\":[{\"cells\":{\"fill\":{\"color\":\"#EBF0F8\"},\"line\":{\"color\":\"white\"}},\"header\":{\"fill\":{\"color\":\"#C8D4E3\"},\"line\":{\"color\":\"white\"}},\"type\":\"table\"}]},\"layout\":{\"annotationdefaults\":{\"arrowcolor\":\"#2a3f5f\",\"arrowhead\":0,\"arrowwidth\":1},\"autotypenumbers\":\"strict\",\"coloraxis\":{\"colorbar\":{\"outlinewidth\":0,\"ticks\":\"\"}},\"colorscale\":{\"diverging\":[[0,\"#8e0152\"],[0.1,\"#c51b7d\"],[0.2,\"#de77ae\"],[0.3,\"#f1b6da\"],[0.4,\"#fde0ef\"],[0.5,\"#f7f7f7\"],[0.6,\"#e6f5d0\"],[0.7,\"#b8e186\"],[0.8,\"#7fbc41\"],[0.9,\"#4d9221\"],[1,\"#276419\"]],\"sequential\":[[0.0,\"#0d0887\"],[0.1111111111111111,\"#46039f\"],[0.2222222222222222,\"#7201a8\"],[0.3333333333333333,\"#9c179e\"],[0.4444444444444444,\"#bd3786\"],[0.5555555555555556,\"#d8576b\"],[0.6666666666666666,\"#ed7953\"],[0.7777777777777778,\"#fb9f3a\"],[0.8888888888888888,\"#fdca26\"],[1.0,\"#f0f921\"]],\"sequentialminus\":[[0.0,\"#0d0887\"],[0.1111111111111111,\"#46039f\"],[0.2222222222222222,\"#7201a8\"],[0.3333333333333333,\"#9c179e\"],[0.4444444444444444,\"#bd3786\"],[0.5555555555555556,\"#d8576b\"],[0.6666666666666666,\"#ed7953\"],[0.7777777777777778,\"#fb9f3a\"],[0.8888888888888888,\"#fdca26\"],[1.0,\"#f0f921\"]]},\"colorway\":[\"#636efa\",\"#EF553B\",\"#00cc96\",\"#ab63fa\",\"#FFA15A\",\"#19d3f3\",\"#FF6692\",\"#B6E880\",\"#FF97FF\",\"#FECB52\"],\"font\":{\"color\":\"#2a3f5f\"},\"geo\":{\"bgcolor\":\"white\",\"lakecolor\":\"white\",\"landcolor\":\"#E5ECF6\",\"showlakes\":true,\"showland\":true,\"subunitcolor\":\"white\"},\"hoverlabel\":{\"align\":\"left\"},\"hovermode\":\"closest\",\"mapbox\":{\"style\":\"light\"},\"paper_bgcolor\":\"white\",\"plot_bgcolor\":\"#E5ECF6\",\"polar\":{\"angularaxis\":{\"gridcolor\":\"white\",\"linecolor\":\"white\",\"ticks\":\"\"},\"bgcolor\":\"#E5ECF6\",\"radialaxis\":{\"gridcolor\":\"white\",\"linecolor\":\"white\",\"ticks\":\"\"}},\"scene\":{\"xaxis\":{\"backgroundcolor\":\"#E5ECF6\",\"gridcolor\":\"white\",\"gridwidth\":2,\"linecolor\":\"white\",\"showbackground\":true,\"ticks\":\"\",\"zerolinecolor\":\"white\"},\"yaxis\":{\"backgroundcolor\":\"#E5ECF6\",\"gridcolor\":\"white\",\"gridwidth\":2,\"linecolor\":\"white\",\"showbackground\":true,\"ticks\":\"\",\"zerolinecolor\":\"white\"},\"zaxis\":{\"backgroundcolor\":\"#E5ECF6\",\"gridcolor\":\"white\",\"gridwidth\":2,\"linecolor\":\"white\",\"showbackground\":true,\"ticks\":\"\",\"zerolinecolor\":\"white\"}},\"shapedefaults\":{\"line\":{\"color\":\"#2a3f5f\"}},\"ternary\":{\"aaxis\":{\"gridcolor\":\"white\",\"linecolor\":\"white\",\"ticks\":\"\"},\"baxis\":{\"gridcolor\":\"white\",\"linecolor\":\"white\",\"ticks\":\"\"},\"bgcolor\":\"#E5ECF6\",\"caxis\":{\"gridcolor\":\"white\",\"linecolor\":\"white\",\"ticks\":\"\"}},\"title\":{\"x\":0.05},\"xaxis\":{\"automargin\":true,\"gridcolor\":\"white\",\"linecolor\":\"white\",\"ticks\":\"\",\"title\":{\"standoff\":15},\"zerolinecolor\":\"white\",\"zerolinewidth\":2},\"yaxis\":{\"automargin\":true,\"gridcolor\":\"white\",\"linecolor\":\"white\",\"ticks\":\"\",\"title\":{\"standoff\":15},\"zerolinecolor\":\"white\",\"zerolinewidth\":2}}},\"title\":{\"font\":{\"color\":\"#4D5663\"}},\"xaxis\":{\"gridcolor\":\"#E1E5ED\",\"showgrid\":true,\"tickfont\":{\"color\":\"#4D5663\"},\"title\":{\"font\":{\"color\":\"#4D5663\"},\"text\":\"\"},\"zerolinecolor\":\"#E1E5ED\"},\"yaxis\":{\"gridcolor\":\"#E1E5ED\",\"showgrid\":true,\"tickfont\":{\"color\":\"#4D5663\"},\"title\":{\"font\":{\"color\":\"#4D5663\"},\"text\":\"\"},\"zerolinecolor\":\"#E1E5ED\"}},                        {\"showLink\": true, \"linkText\": \"Export to plot.ly\", \"plotlyServerURL\": \"https://plot.ly\", \"responsive\": true}                    ).then(function(){\n",
       "                            \n",
       "var gd = document.getElementById('d0a332f2-aa91-47b8-bd10-808607f7eb1b');\n",
       "var x = new MutationObserver(function (mutations, observer) {{\n",
       "        var display = window.getComputedStyle(gd).display;\n",
       "        if (!display || display === 'none') {{\n",
       "            console.log([gd, 'removed!']);\n",
       "            Plotly.purge(gd);\n",
       "            observer.disconnect();\n",
       "        }}\n",
       "}});\n",
       "\n",
       "// Listen for the removal of the full notebook cells\n",
       "var notebookContainer = gd.closest('#notebook-container');\n",
       "if (notebookContainer) {{\n",
       "    x.observe(notebookContainer, {childList: true});\n",
       "}}\n",
       "\n",
       "// Listen for the clearing of the current output cell\n",
       "var outputEl = gd.closest('.output');\n",
       "if (outputEl) {{\n",
       "    x.observe(outputEl, {childList: true});\n",
       "}}\n",
       "\n",
       "                        })                };                });            </script>        </div>"
      ]
     },
     "metadata": {},
     "output_type": "display_data"
    }
   ],
   "source": [
    "kl.iplot(kind='hist')"
   ]
  },
  {
   "cell_type": "markdown",
   "metadata": {},
   "source": [
    "# FEATURES SETS\n",
    "Let Define the feature sets:X"
   ]
  },
  {
   "cell_type": "code",
   "execution_count": 7,
   "metadata": {},
   "outputs": [
    {
     "data": {
      "text/plain": [
       "Index(['region', 'tenure', 'age', 'marital', 'address', 'income', 'ed',\n",
       "       'employ', 'retire', 'gender', 'reside', 'custcat'],\n",
       "      dtype='object')"
      ]
     },
     "execution_count": 7,
     "metadata": {},
     "output_type": "execute_result"
    }
   ],
   "source": [
    "# Finding the total columns in the dataset\n",
    "df.columns"
   ]
  },
  {
   "cell_type": "markdown",
   "metadata": {},
   "source": [
    "To use scikit-learn library, we have to convert the Pandas data frame to a Numpy array:"
   ]
  },
  {
   "cell_type": "code",
   "execution_count": 8,
   "metadata": {},
   "outputs": [
    {
     "data": {
      "text/plain": [
       "array([[ 2., 13., 44., ...,  0.,  0.,  2.],\n",
       "       [ 3., 11., 33., ...,  0.,  0.,  6.],\n",
       "       [ 3., 68., 52., ...,  0.,  1.,  2.],\n",
       "       ...,\n",
       "       [ 3., 67., 59., ...,  0.,  1.,  1.],\n",
       "       [ 3., 70., 49., ...,  0.,  1.,  1.],\n",
       "       [ 3., 50., 36., ...,  0.,  1.,  3.]])"
      ]
     },
     "execution_count": 8,
     "metadata": {},
     "output_type": "execute_result"
    }
   ],
   "source": [
    "X = df[['region', 'tenure', 'age', 'marital', 'address', 'income', 'ed',\n",
    "        'employ', 'retire', 'gender', 'reside']] .values  # .astype(float)\n",
    "X\n"
   ]
  },
  {
   "cell_type": "code",
   "execution_count": 9,
   "metadata": {},
   "outputs": [
    {
     "data": {
      "text/plain": [
       "array([1, 4, 3, 1, 3], dtype=int64)"
      ]
     },
     "execution_count": 9,
     "metadata": {},
     "output_type": "execute_result"
    }
   ],
   "source": [
    "y= df['custcat'].values\n",
    "y[0:5]"
   ]
  },
  {
   "cell_type": "markdown",
   "metadata": {},
   "source": [
    "# NORMALIZE THE DATASET\n",
    "We use standardscaler to Normalize the dataset"
   ]
  },
  {
   "cell_type": "code",
   "execution_count": 10,
   "metadata": {},
   "outputs": [],
   "source": [
    "# Importing Standardscaler Library\n",
    "from sklearn import preprocessing"
   ]
  },
  {
   "cell_type": "code",
   "execution_count": 11,
   "metadata": {},
   "outputs": [],
   "source": [
    "X =  preprocessing.StandardScaler().fit(X).transform(X.astype(float))"
   ]
  },
  {
   "cell_type": "markdown",
   "metadata": {},
   "source": [
    "# Train and Test Split the Data\n",
    "This will provide a more accurate evaluation on out-of-sample accuracy because the testing dataset is not part of the dataset that have been used to train the data. It is more realistic for real world problems."
   ]
  },
  {
   "cell_type": "code",
   "execution_count": 12,
   "metadata": {},
   "outputs": [],
   "source": [
    "# Importing the sklearn model for train_test_split\n",
    "from sklearn.model_selection import train_test_split"
   ]
  },
  {
   "cell_type": "code",
   "execution_count": 23,
   "metadata": {},
   "outputs": [],
   "source": [
    "X_train,X_test,y_train,y_test= train_test_split(X,y, test_size=0.2, random_state=4)\n"
   ]
  },
  {
   "cell_type": "markdown",
   "metadata": {},
   "source": [
    "# Note\n",
    "We have 1000 rows in the df(dataframe),\n",
    "We than set the train size to 80% (800 rows) of the dataset and\n",
    "<p>Set the remaining 20%(200 rows ) as our test_set </p>\n"
   ]
  },
  {
   "cell_type": "code",
   "execution_count": 25,
   "metadata": {},
   "outputs": [
    {
     "name": "stdout",
     "output_type": "stream",
     "text": [
      "Train Set (800, 11) (800,)\n",
      "Test Set (200, 11) (200,)\n"
     ]
    }
   ],
   "source": [
    "print('Train Set', X_train.shape, y_train.shape)\n",
    "print('Test Set', X_test.shape,y_test.shape)"
   ]
  },
  {
   "cell_type": "markdown",
   "metadata": {},
   "source": [
    "# PERFORMING CLASSIFCATION \n",
    "K-NN (K-Nearest Neighbor)"
   ]
  },
  {
   "cell_type": "code",
   "execution_count": 15,
   "metadata": {},
   "outputs": [],
   "source": [
    "# Importing the library\n",
    "from sklearn.neighbors import KNeighborsClassifier"
   ]
  },
  {
   "cell_type": "markdown",
   "metadata": {},
   "source": [
    "Training the Model\n",
    "<p> Setting the value of K=4</p>"
   ]
  },
  {
   "cell_type": "code",
   "execution_count": 28,
   "metadata": {},
   "outputs": [
    {
     "name": "stdout",
     "output_type": "stream",
     "text": [
      "KNeighborsClassifier(n_neighbors=4)\n"
     ]
    }
   ],
   "source": [
    "k=4\n",
    "neigh = KNeighborsClassifier(n_neighbors = k).fit(X_train,y_train)\n",
    "print(neigh)"
   ]
  },
  {
   "cell_type": "markdown",
   "metadata": {},
   "source": [
    "# Predicting the Model\n",
    "We can use the above model to predict the test set"
   ]
  },
  {
   "cell_type": "code",
   "execution_count": 31,
   "metadata": {},
   "outputs": [
    {
     "data": {
      "text/plain": [
       "array([1, 1, 3, 2, 4], dtype=int64)"
      ]
     },
     "execution_count": 31,
     "metadata": {},
     "output_type": "execute_result"
    }
   ],
   "source": [
    "nped = neigh.predict(X_test)\n",
    "nped[0:5]"
   ]
  },
  {
   "cell_type": "markdown",
   "metadata": {},
   "source": [
    "# Accuracy Evaluation\n"
   ]
  },
  {
   "cell_type": "code",
   "execution_count": 35,
   "metadata": {},
   "outputs": [
    {
     "name": "stdout",
     "output_type": "stream",
     "text": [
      "Train Set Accuracy 0.5475\n",
      "Test Set Accuracy 0.32\n"
     ]
    }
   ],
   "source": [
    "from sklearn import metrics\n",
    "print('Train Set Accuracy', metrics.accuracy_score(y_train,neigh.predict(X_train)))\n",
    "print('Test Set Accuracy', metrics.accuracy_score(y_test,nped))"
   ]
  },
  {
   "cell_type": "markdown",
   "metadata": {},
   "source": [
    "## Practice\n",
    "Can you build the model again, but this time with k=6?"
   ]
  },
  {
   "cell_type": "code",
   "execution_count": 39,
   "metadata": {},
   "outputs": [],
   "source": [
    "from sklearn.neighbors import KNeighborsClassifier"
   ]
  },
  {
   "cell_type": "code",
   "execution_count": 59,
   "metadata": {},
   "outputs": [
    {
     "data": {
      "text/plain": [
       "KNeighborsClassifier()"
      ]
     },
     "execution_count": 59,
     "metadata": {},
     "output_type": "execute_result"
    }
   ],
   "source": [
    "k=5\n",
    "neigh1 = KNeighborsClassifier(n_neighbors=k).fit(X_train,y_train)\n",
    "neigh1"
   ]
  },
  {
   "cell_type": "code",
   "execution_count": 62,
   "metadata": {},
   "outputs": [
    {
     "name": "stdout",
     "output_type": "stream",
     "text": [
      "Train Set Accuracy 0.5375\n",
      "Test Set Accuracy 0.315\n"
     ]
    }
   ],
   "source": [
    "print('Train Set Accuracy', metrics.accuracy_score(y_train,neigh1.predict(X_train)))\n",
    "print('Test Set Accuracy', metrics.accuracy_score(y_test, neigh1.predict(X_test)))"
   ]
  },
  {
   "cell_type": "code",
   "execution_count": null,
   "metadata": {},
   "outputs": [],
   "source": []
  }
 ],
 "metadata": {
  "interpreter": {
   "hash": "8fac594bfae6525c0c41b4041d2d72effa188cc8ead05f81b1fab2bb098927fb"
  },
  "kernelspec": {
   "display_name": "Python 3.9.7 64-bit ('base': conda)",
   "language": "python",
   "name": "python3"
  },
  "language_info": {
   "codemirror_mode": {
    "name": "ipython",
    "version": 3
   },
   "file_extension": ".py",
   "mimetype": "text/x-python",
   "name": "python",
   "nbconvert_exporter": "python",
   "pygments_lexer": "ipython3",
   "version": "3.9.7"
  },
  "orig_nbformat": 4
 },
 "nbformat": 4,
 "nbformat_minor": 2
}
